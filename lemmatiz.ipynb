{
 "cells": [
  {
   "cell_type": "code",
   "execution_count": 1,
   "metadata": {},
   "outputs": [],
   "source": [
    "import spacy"
   ]
  },
  {
   "cell_type": "code",
   "execution_count": 2,
   "metadata": {
    "scrolled": true
   },
   "outputs": [],
   "source": [
    "nlp = spacy.load('en')"
   ]
  },
  {
   "cell_type": "code",
   "execution_count": 3,
   "metadata": {},
   "outputs": [],
   "source": [
    "msg = \"This message was possibly given to Father Jozo. He has described never seeing a mother so sad as the Mother of God when She talked about the Bible. \""
   ]
  },
  {
   "cell_type": "code",
   "execution_count": 4,
   "metadata": {},
   "outputs": [],
   "source": [
    "new_data = nlp(msg)"
   ]
  },
  {
   "cell_type": "code",
   "execution_count": 8,
   "metadata": {},
   "outputs": [
    {
     "name": "stdout",
     "output_type": "stream",
     "text": [
      "Lemmatization of word This is ---- this.\n",
      "This  -- POS --  DET\n",
      "Lemmatization of word message is ---- message.\n",
      "message  -- POS --  NOUN\n",
      "Lemmatization of word was is ---- be.\n",
      "was  -- POS --  VERB\n",
      "Lemmatization of word possibly is ---- possibly.\n",
      "possibly  -- POS --  ADV\n",
      "Lemmatization of word given is ---- give.\n",
      "given  -- POS --  VERB\n",
      "Lemmatization of word to is ---- to.\n",
      "to  -- POS --  ADP\n",
      "Lemmatization of word Father is ---- Father.\n",
      "Father  -- POS --  PROPN\n",
      "Lemmatization of word Jozo is ---- Jozo.\n",
      "Jozo  -- POS --  PROPN\n",
      "Lemmatization of word . is ---- ..\n",
      ".  -- POS --  PUNCT\n",
      "Lemmatization of word He is ---- -PRON-.\n",
      "He  -- POS --  PRON\n",
      "Lemmatization of word has is ---- have.\n",
      "has  -- POS --  VERB\n",
      "Lemmatization of word described is ---- describe.\n",
      "described  -- POS --  VERB\n",
      "Lemmatization of word never is ---- never.\n",
      "never  -- POS --  ADV\n",
      "Lemmatization of word seeing is ---- see.\n",
      "seeing  -- POS --  VERB\n",
      "Lemmatization of word a is ---- a.\n",
      "a  -- POS --  DET\n",
      "Lemmatization of word mother is ---- mother.\n",
      "mother  -- POS --  NOUN\n",
      "Lemmatization of word so is ---- so.\n",
      "so  -- POS --  ADV\n",
      "Lemmatization of word sad is ---- sad.\n",
      "sad  -- POS --  ADJ\n",
      "Lemmatization of word as is ---- as.\n",
      "as  -- POS --  ADP\n",
      "Lemmatization of word the is ---- the.\n",
      "the  -- POS --  DET\n",
      "Lemmatization of word Mother is ---- Mother.\n",
      "Mother  -- POS --  PROPN\n",
      "Lemmatization of word of is ---- of.\n",
      "of  -- POS --  ADP\n",
      "Lemmatization of word God is ---- God.\n",
      "God  -- POS --  PROPN\n",
      "Lemmatization of word when is ---- when.\n",
      "when  -- POS --  ADV\n",
      "Lemmatization of word She is ---- -PRON-.\n",
      "She  -- POS --  PRON\n",
      "Lemmatization of word talked is ---- talk.\n",
      "talked  -- POS --  VERB\n",
      "Lemmatization of word about is ---- about.\n",
      "about  -- POS --  ADP\n",
      "Lemmatization of word the is ---- the.\n",
      "the  -- POS --  DET\n",
      "Lemmatization of word Bible is ---- Bible.\n",
      "Bible  -- POS --  PROPN\n",
      "Lemmatization of word . is ---- ..\n",
      ".  -- POS --  PUNCT\n"
     ]
    }
   ],
   "source": [
    "for i in new_data:\n",
    "    print('Lemmatization of word {} is ---- {}.'.format(i, i.lemma_))\n",
    "    print(i, ' -- POS -- ', i.pos_)"
   ]
  },
  {
   "cell_type": "code",
   "execution_count": null,
   "metadata": {},
   "outputs": [],
   "source": []
  }
 ],
 "metadata": {
  "kernelspec": {
   "display_name": "Python 3",
   "language": "python",
   "name": "python3"
  },
  "language_info": {
   "codemirror_mode": {
    "name": "ipython",
    "version": 3
   },
   "file_extension": ".py",
   "mimetype": "text/x-python",
   "name": "python",
   "nbconvert_exporter": "python",
   "pygments_lexer": "ipython3",
   "version": "3.7.3"
  }
 },
 "nbformat": 4,
 "nbformat_minor": 2
}
