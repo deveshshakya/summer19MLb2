{
  "nbformat": 4,
  "nbformat_minor": 0,
  "metadata": {
    "colab": {
      "name": "web_scrape_with_NLP.ipynb",
      "version": "0.3.2",
      "provenance": [],
      "collapsed_sections": []
    },
    "kernelspec": {
      "name": "python3",
      "display_name": "Python 3"
    },
    "accelerator": "GPU"
  },
  "cells": [
    {
      "cell_type": "code",
      "metadata": {
        "id": "WsVOL2gpAtSB",
        "colab_type": "code",
        "colab": {}
      },
      "source": [
        "import requests"
      ],
      "execution_count": 0,
      "outputs": []
    },
    {
      "cell_type": "code",
      "metadata": {
        "id": "gEMFD7VaEU5w",
        "colab_type": "code",
        "colab": {}
      },
      "source": [
        "link = 'https://php.net'"
      ],
      "execution_count": 0,
      "outputs": []
    },
    {
      "cell_type": "code",
      "metadata": {
        "id": "rP2pfTriEZ3A",
        "colab_type": "code",
        "colab": {}
      },
      "source": [
        "# accessing website\n",
        "data = requests.get(link)"
      ],
      "execution_count": 0,
      "outputs": []
    },
    {
      "cell_type": "code",
      "metadata": {
        "id": "FgSrWvMqEfic",
        "colab_type": "code",
        "colab": {}
      },
      "source": [
        "# html data of the website\n",
        "webdata = data.text"
      ],
      "execution_count": 0,
      "outputs": []
    },
    {
      "cell_type": "code",
      "metadata": {
        "id": "bNo_9ng3FJSi",
        "colab_type": "code",
        "colab": {}
      },
      "source": [
        "# importing bs4\n",
        "from bs4 import BeautifulSoup"
      ],
      "execution_count": 0,
      "outputs": []
    },
    {
      "cell_type": "code",
      "metadata": {
        "id": "T1uIqdHoGh20",
        "colab_type": "code",
        "colab": {}
      },
      "source": [
        "# beautifying the web data\n",
        "webdata = BeautifulSoup(markup=webdata, features='html5lib')"
      ],
      "execution_count": 0,
      "outputs": []
    },
    {
      "cell_type": "code",
      "metadata": {
        "id": "PzDRRyrrG3CA",
        "colab_type": "code",
        "colab": {}
      },
      "source": [
        "# finding alll text data\n",
        "text = webdata.get_text()"
      ],
      "execution_count": 0,
      "outputs": []
    },
    {
      "cell_type": "code",
      "metadata": {
        "id": "hgLMt_OdHU12",
        "colab_type": "code",
        "colab": {}
      },
      "source": [
        "with open('webdata.txt', 'w') as f:\n",
        "    f.write(text)"
      ],
      "execution_count": 0,
      "outputs": []
    },
    {
      "cell_type": "code",
      "metadata": {
        "id": "sqIm4Wd8LzqT",
        "colab_type": "code",
        "colab": {}
      },
      "source": [
        "with open('webdata.txt', 'r') as f:\n",
        "    text_web_data = f.read()"
      ],
      "execution_count": 0,
      "outputs": []
    },
    {
      "cell_type": "code",
      "metadata": {
        "id": "zBfHXauJL_po",
        "colab_type": "code",
        "colab": {}
      },
      "source": [
        "newdata = [i for i in text_web_data.split()]"
      ],
      "execution_count": 0,
      "outputs": []
    },
    {
      "cell_type": "code",
      "metadata": {
        "id": "xUIzYU3BQ2qk",
        "colab_type": "code",
        "colab": {}
      },
      "source": [
        "import matplotlib.pyplot as plt\n",
        "import nltk"
      ],
      "execution_count": 0,
      "outputs": []
    },
    {
      "cell_type": "code",
      "metadata": {
        "id": "RDjkDfGuQ5YJ",
        "colab_type": "code",
        "colab": {
          "base_uri": "https://localhost:8080/",
          "height": 34
        },
        "outputId": "8fa9684e-1efa-40ed-88ec-4e90017a9c61"
      },
      "source": [
        "[i for i in dir(nltk) if 'Freq' in i]  #this will plot data for"
      ],
      "execution_count": 14,
      "outputs": [
        {
          "output_type": "execute_result",
          "data": {
            "text/plain": [
              "['ConditionalFreqDist', 'FreqDist']"
            ]
          },
          "metadata": {
            "tags": []
          },
          "execution_count": 14
        }
      ]
    },
    {
      "cell_type": "code",
      "metadata": {
        "id": "kNXtNDdDQ-dH",
        "colab_type": "code",
        "colab": {}
      },
      "source": [
        "nlpdata = nltk.FreqDist(newdata)"
      ],
      "execution_count": 0,
      "outputs": []
    },
    {
      "cell_type": "code",
      "metadata": {
        "id": "lmjLGstIRCoR",
        "colab_type": "code",
        "colab": {
          "base_uri": "https://localhost:8080/",
          "height": 326
        },
        "outputId": "2c5f242d-1146-4f20-9ddc-19e8bfbaa7ba"
      },
      "source": [
        "nlpdata.plot(20)"
      ],
      "execution_count": 16,
      "outputs": [
        {
          "output_type": "display_data",
          "data": {
            "image/png": "[encoded data removed]",
            "text/plain": [
              "<Figure size 432x288 with 1 Axes>"
            ]
          },
          "metadata": {
            "tags": []
          }
        }
      ]
    },
    {
      "cell_type": "code",
      "metadata": {
        "id": "Hj_bSP3fREyt",
        "colab_type": "code",
        "colab": {}
      },
      "source": [
        "from nltk.corpus import stopwords"
      ],
      "execution_count": 0,
      "outputs": []
    },
    {
      "cell_type": "code",
      "metadata": {
        "id": "Ziu0n0AkRRmg",
        "colab_type": "code",
        "colab": {}
      },
      "source": [
        "extracted_data = [i for i in newdata if i.lower()  in stopwords.words('english')]"
      ],
      "execution_count": 0,
      "outputs": []
    },
    {
      "cell_type": "code",
      "metadata": {
        "id": "lTP0_Uh8RTZW",
        "colab_type": "code",
        "colab": {}
      },
      "source": [
        "nlpremove = nltk.FreqDist(extracted_data)"
      ],
      "execution_count": 0,
      "outputs": []
    },
    {
      "cell_type": "code",
      "metadata": {
        "id": "qjmMIaibRbNH",
        "colab_type": "code",
        "colab": {
          "base_uri": "https://localhost:8080/",
          "height": 299
        },
        "outputId": "63bcdcc8-a830-4679-95c9-2e8bc08222d0"
      },
      "source": [
        "nlpremove.plot(20)"
      ],
      "execution_count": 21,
      "outputs": [
        {
          "output_type": "display_data",
          "data": {
            "image/png": "[encoded data removed]",
            "text/plain": [
              "<Figure size 432x288 with 1 Axes>"
            ]
          },
          "metadata": {
            "tags": []
          }
        }
      ]
    },
    {
      "cell_type": "code",
      "metadata": {
        "id": "3kgj-WLtRds7",
        "colab_type": "code",
        "colab": {}
      },
      "source": [
        ""
      ],
      "execution_count": 0,
      "outputs": []
    }
  ]
}