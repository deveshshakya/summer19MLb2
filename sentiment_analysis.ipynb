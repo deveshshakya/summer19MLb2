{
 "cells": [
  {
   "cell_type": "code",
   "execution_count": 1,
   "metadata": {},
   "outputs": [],
   "source": [
    "import tweepy\n",
    "import time\n",
    "import matplotlib.pyplot as plt\n",
    "from textblob import TextBlob"
   ]
  },
  {
   "cell_type": "code",
   "execution_count": 2,
   "metadata": {},
   "outputs": [],
   "source": [
    "consumer_key = 'nas5dxl0Yaf6KDFfgA4CJHaVZ'\n",
    "consumer_sec = 'prm6uGpSbOP4TVKaseiExxucWd2nhiyyd0uvp9gScTmc92pGzs'\n",
    "access_key = '4579507037-zGTcqC0aG5tx7VKrPW0TuGzjm8OmZS80cwDb3QE'\n",
    "access_sec = '9I99KxruIXRNJpzbN25gOTwV3z7ueGZpQXCb4amYpAEkS'"
   ]
  },
  {
   "cell_type": "code",
   "execution_count": 3,
   "metadata": {},
   "outputs": [],
   "source": [
    "auth = tweepy.OAuthHandler(consumer_key, consumer_sec)"
   ]
  },
  {
   "cell_type": "code",
   "execution_count": 4,
   "metadata": {},
   "outputs": [],
   "source": [
    "auth.set_access_token(access_key, access_sec)"
   ]
  },
  {
   "cell_type": "code",
   "execution_count": 5,
   "metadata": {},
   "outputs": [],
   "source": [
    "api_connect = tweepy.API(auth)"
   ]
  },
  {
   "cell_type": "code",
   "execution_count": 20,
   "metadata": {},
   "outputs": [],
   "source": [
    "tweet_data = api_connect.search('Dinesh Karthik', count=2000)"
   ]
  },
  {
   "cell_type": "code",
   "execution_count": 21,
   "metadata": {},
   "outputs": [],
   "source": [
    "pos = 0\n",
    "neg = 0\n",
    "neu = 0\n",
    "for tweet in tweet_data:\n",
    "    analysis = TextBlob(tweet.text)\n",
    "#     print(analysis.sentiment)\n",
    "    if analysis.sentiment.polarity > 0:\n",
    "#         print('Positive')\n",
    "        pos = pos + 1\n",
    "    elif analysis.sentiment.polarity < 0:\n",
    "#         print('Negative')\n",
    "        neg = neg + 1\n",
    "    else:\n",
    "#         print('Neutral')\n",
    "        neu = neu + 1"
   ]
  },
  {
   "cell_type": "code",
   "execution_count": 22,
   "metadata": {},
   "outputs": [
    {
     "data": {
      "image/png": "[encoded data removed]",
      "text/plain": [
       "<Figure size 432x288 with 1 Axes>"
      ]
     },
     "metadata": {
      "needs_background": "light"
     },
     "output_type": "display_data"
    },
    {
     "data": {
      "image/png": "[encoded data removed]",
      "text/plain": [
       "<Figure size 432x288 with 1 Axes>"
      ]
     },
     "metadata": {},
     "output_type": "display_data"
    }
   ],
   "source": [
    "plt.xlabel('Tags')\n",
    "plt.ylabel('Polarity')\n",
    "plt.bar(['pos','neg','neu'],[pos,neg,neu])\n",
    "plt.show()\n",
    "plt.pie([pos,neg,neu],labels=['pos','neg','neu'],autopct='%1.1f%%')\n",
    "plt.show()"
   ]
  },
  {
   "cell_type": "code",
   "execution_count": null,
   "metadata": {},
   "outputs": [],
   "source": []
  }
 ],
 "metadata": {
  "kernelspec": {
   "display_name": "Python 3",
   "language": "python",
   "name": "python3"
  },
  "language_info": {
   "codemirror_mode": {
    "name": "ipython",
    "version": 3
   },
   "file_extension": ".py",
   "mimetype": "text/x-python",
   "name": "python",
   "nbconvert_exporter": "python",
   "pygments_lexer": "ipython3",
   "version": "3.7.3"
  }
 },
 "nbformat": 4,
 "nbformat_minor": 2
}
